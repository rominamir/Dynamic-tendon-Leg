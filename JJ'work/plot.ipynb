{
 "cells": [
  {
   "metadata": {},
   "cell_type": "markdown",
   "source": "Exponential",
   "id": "c5efc5b7ebeca6f3"
  },
  {
   "cell_type": "code",
   "id": "initial_id",
   "metadata": {
    "collapsed": true,
    "jupyter": {
     "is_executing": true
    }
   },
   "source": [
    "import numpy as np\n",
    "import matplotlib.pyplot as plt\n",
    "\n",
    "def exponential_stiffness_growth(stiffness_start, stiffness_end, total_episodes, growth_factor):\n",
    "    \"\"\"\n",
    "    Computes stiffness values based on an exponential growth function.\n",
    "\n",
    "    Parameters:\n",
    "    - stiffness_start: Initial stiffness value.\n",
    "    - stiffness_end: Maximum stiffness value.\n",
    "    - total_episodes: Number of episodes for training.\n",
    "    - growth_factor: Controls the growth rate (higher = faster increase).\n",
    "\n",
    "    Returns:\n",
    "    - episodes: Array of episode numbers.\n",
    "    - stiffness_values: Array of stiffness values for each episode.\n",
    "    \"\"\"\n",
    "    episodes = np.arange(total_episodes)\n",
    "    exponent = growth_factor * episodes\n",
    "    stiffness_values = stiffness_start + (\n",
    "        (stiffness_end - stiffness_start) * (np.exp(exponent) - 1) / (np.exp(growth_factor * total_episodes) - 1)\n",
    "    )\n",
    "    return episodes, stiffness_values\n",
    "\n",
    "# Parameters\n",
    "stiffness_start = 1000\n",
    "stiffness_end = 10000\n",
    "total_episodes = 100\n",
    "growth_factors = [0.005, 0.01, 0.02, 0.05]  # Different growth factors for comparison\n",
    "\n",
    "# Plot Exponential Growth\n",
    "plt.figure(figsize=(10, 5))\n",
    "for growth_factor in growth_factors:\n",
    "    episodes, stiffness_values = exponential_stiffness_growth(stiffness_start, stiffness_end, total_episodes, growth_factor)\n",
    "    plt.plot(episodes, stiffness_values, label=f'Growth Factor {growth_factor}')\n",
    "\n",
    "plt.xlabel('Episode')\n",
    "plt.ylabel('Stiffness Value')\n",
    "plt.title('Exponential Growth of Stiffness')\n",
    "plt.legend()\n",
    "plt.grid(True)\n",
    "plt.show()\n"
   ],
   "outputs": [],
   "execution_count": null
  },
  {
   "metadata": {},
   "cell_type": "code",
   "outputs": [],
   "execution_count": null,
   "source": [
    "import numpy as np\n",
    "import matplotlib.pyplot as plt\n",
    "\n",
    "def logarithmic_stiffness_growth(stiffness_start, stiffness_end, total_episodes, growth_factor):\n",
    "    \"\"\"\n",
    "    Computes stiffness values based on a logarithmic growth function.\n",
    "\n",
    "    Parameters:\n",
    "    - stiffness_start: Initial stiffness value.\n",
    "    - stiffness_end: Maximum stiffness value.\n",
    "    - total_episodes: Number of episodes for training.\n",
    "    - growth_factor: Controls the growth rate (higher = faster initial increase).\n",
    "\n",
    "    Returns:\n",
    "    - episodes: Array of episode numbers.\n",
    "    - stiffness_values: Array of stiffness values for each episode.\n",
    "    \"\"\"\n",
    "    episodes = np.arange(total_episodes)\n",
    "    progress = episodes / total_episodes\n",
    "    adjusted_progress = 1 - np.exp(-growth_factor * progress)\n",
    "    stiffness_values = stiffness_start + (stiffness_end - stiffness_start) * adjusted_progress\n",
    "    return episodes, stiffness_values\n",
    "\n",
    "# Parameters\n",
    "stiffness_start = 1000\n",
    "stiffness_end = 10000\n",
    "total_episodes = 100\n",
    "growth_factors = [2, 5, 10, 15]  # Different growth factors for comparison\n",
    "\n",
    "# Plot Logarithmic Growth\n",
    "plt.figure(figsize=(10, 5))\n",
    "for growth_factor in growth_factors:\n",
    "    episodes, stiffness_values = logarithmic_stiffness_growth(stiffness_start, stiffness_end, total_episodes, growth_factor)\n",
    "    plt.plot(episodes, stiffness_values, label=f'Growth Factor {growth_factor}')\n",
    "\n",
    "plt.xlabel('Episode')\n",
    "plt.ylabel('Stiffness Value')\n",
    "plt.title('Logarithmic Growth of Stiffness')\n",
    "plt.legend()\n",
    "plt.grid(True)\n",
    "plt.show()\n"
   ],
   "id": "f97884fe1e626603"
  }
 ],
 "metadata": {
  "kernelspec": {
   "display_name": "Python 3",
   "language": "python",
   "name": "python3"
  },
  "language_info": {
   "codemirror_mode": {
    "name": "ipython",
    "version": 2
   },
   "file_extension": ".py",
   "mimetype": "text/x-python",
   "name": "python",
   "nbconvert_exporter": "python",
   "pygments_lexer": "ipython2",
   "version": "2.7.6"
  }
 },
 "nbformat": 4,
 "nbformat_minor": 5
}
